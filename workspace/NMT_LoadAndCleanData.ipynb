{
 "cells": [
  {
   "cell_type": "markdown",
   "id": "051e1a51",
   "metadata": {},
   "source": [
    "### 1. Load and Clean Data"
   ]
  },
  {
   "cell_type": "code",
   "execution_count": 15,
   "id": "b6edf6eb",
   "metadata": {},
   "outputs": [],
   "source": [
    "from translate.storage.tmx import tmxfile\n",
    "import unicodedata\n",
    "import re\n",
    "import string\n",
    "from pickle import dump\n",
    "from numpy import array"
   ]
  },
  {
   "cell_type": "code",
   "execution_count": 2,
   "id": "078c4ebb",
   "metadata": {},
   "outputs": [],
   "source": [
    "def read(filepath):\n",
    "    with open(filepath, 'rb') as fin:\n",
    "        tmx_file = tmxfile(fin, 'en', 'ar')\n",
    "    \n",
    "    pairs = []\n",
    "    for node in tmx_file.unit_iter():\n",
    "        i = []\n",
    "        i.append(node.source)\n",
    "        i.append(node.target)\n",
    "        pairs.append(i)\n",
    "    print(\"Number of pairs = {}\".format(len(pairs)))\n",
    "    return pairs"
   ]
  },
  {
   "cell_type": "code",
   "execution_count": 3,
   "id": "d9877630",
   "metadata": {},
   "outputs": [],
   "source": [
    "def save(sentences, filename):\n",
    "    dump(sentences, open(filename, 'wb'))\n",
    "    print('Saved: %s' % filename)"
   ]
  },
  {
   "cell_type": "code",
   "execution_count": 4,
   "id": "01428a7e",
   "metadata": {},
   "outputs": [],
   "source": [
    "def unicode_to_ascii(s):\n",
    "    return ''.join(c for c in unicodedata.normalize('NFD', s)\n",
    "        if unicodedata.category(c) != 'Mn')\n",
    "\n",
    "def preprocess_sentence(w):\n",
    "    w = unicode_to_ascii(w.lower().strip())\n",
    "    \n",
    "    # creating a space between a word and the punctuation following it\n",
    "    # eg: \"he is a boy.\" => \"he is a boy .\"\n",
    "    # Reference:- https://stackoverflow.com/questions/3645931/python-padding-punctuation-with-white-spaces-keeping-punctuation\n",
    "    w = re.sub(r\"([?.!,¿])\", r\" \\1 \", w)\n",
    "    w = re.sub(r'[\" \"]+', \" \", w)\n",
    "    \n",
    "    # replacing everything with space except (a-z, A-Z, \".\", \"?\", \"!\", \",\")\n",
    "    w = re.sub(r\"[^a-zA-Z?.!,¿]+\", \" \", w)\n",
    "    \n",
    "    # remove numbers\n",
    "    w = re.sub(r\"[0-9]\", \"\", w)\n",
    "    \n",
    "    w = w.rstrip().strip()\n",
    "    return w\n",
    "\n",
    "def nepali_preprocess_sentence(w):\n",
    "    # remove numbers\n",
    "    w = re.sub(r\"[०१२३४५६७८९]\", \"\", w)\n",
    "    \n",
    "    w = w.rstrip().strip()\n",
    "    return w\n",
    "\n",
    "def max_length(lines):\n",
    "    return max(len(line.split()) for line in lines)"
   ]
  },
  {
   "cell_type": "code",
   "execution_count": 5,
   "id": "c81c9b0a",
   "metadata": {},
   "outputs": [],
   "source": [
    "def clean(dataset):\n",
    "    cleaned_pairs = []\n",
    "    # prepare translation table for removing punctuation\n",
    "    table = str.maketrans('', '', string.punctuation)\n",
    "    for line in dataset:\n",
    "        # remove punctuation from each token\n",
    "        line1 = [word.translate(table) for word in line[0].split(' ')]\n",
    "        line2 = [word.translate(table) for word in line[1].split(' ')]        \n",
    "        \n",
    "        en_line = [preprocess_sentence(w) for w in line1 if len(preprocess_sentence(w)) != 0]        \n",
    "        ne_line = [nepali_preprocess_sentence(w) for w in line2 if len(nepali_preprocess_sentence(w)) != 0]\n",
    "        \n",
    "        cleaned_pairs.append([' '.join(en_line), ' '.join(ne_line)])\n",
    "    return cleaned_pairs"
   ]
  },
  {
   "cell_type": "code",
   "execution_count": 6,
   "id": "5c881e1d",
   "metadata": {},
   "outputs": [],
   "source": [
    "def load_dataset():\n",
    "    pairs = []\n",
    "    filenames = [\"corpus/project_save.tmx\", \"corpus/NP2.tmx\", \"corpus/NP8.tmx\", \"opus_corpus/compiled/tico19v2020/en-ne.tmx\"]\n",
    "#     filenames = [\"corpus/project_save.tmx\"]\n",
    "    for filename in filenames:\n",
    "        pairs.extend(read(filename))\n",
    "    \n",
    "    cleaned_pairs = clean(pairs)\n",
    "    \n",
    "    # discard sentence with length > 30\n",
    "    reduced_pairs = []\n",
    "    for pair in cleaned_pairs:\n",
    "        if len(pair[0].strip()) == 0 or len(pair[1].strip()) == 0 or max_length(pair) > 30:\n",
    "            continue\n",
    "        reduced_pairs.append(pair)\n",
    "    return reduced_pairs"
   ]
  },
  {
   "cell_type": "code",
   "execution_count": 7,
   "id": "26386b78",
   "metadata": {},
   "outputs": [
    {
     "name": "stdout",
     "output_type": "stream",
     "text": [
      "Number of pairs = 1060\n",
      "Number of pairs = 50\n",
      "Number of pairs = 1054\n",
      "Number of pairs = 3070\n",
      "No. of data: 3981\n"
     ]
    }
   ],
   "source": [
    "dataset = load_dataset()\n",
    "print(\"No. of data: {}\".format(len(dataset)))"
   ]
  },
  {
   "cell_type": "code",
   "execution_count": 8,
   "id": "2bbf86d4",
   "metadata": {},
   "outputs": [
    {
     "name": "stdout",
     "output_type": "stream",
     "text": [
      "[although agriculture sector contributes the most to gross national production the development in irrigation has been less than expected] => [देशको कुल राष्ट्रिय उत्पादनमा कृषि क्षेत्रको योगदान सर्वाधिक रहे तापनि सित्र्चाइ क्षेत्रमा अपेक्षित विकास भएको छैन।]\n",
      "[the agriculture sector has still to rely largely on rainfall] => [सित्र्चाइको लागि अझै पनि कृषिक्षेत्र वर्षा माथि निर्भर रहनुपरेको छ।]\n",
      "[while planning for irrigation development it is also necessary to maintain coordination between irrigation and agricultural production programmes towards achieving maximum benefit] => [सित्र्चाइ विकासका योजना तर्जुमा गर्दा अधिकतम लाभ प्राप्त गर्नें दृष्टिकोणबाट सित्र्चाइ तथा कृषि उत्पादनका कार्यक्रमहरु बीच सामञ्जस्यता कायम गर्नु पनि जरुरी छ।]\n",
      "[progress during the seventh plan department of irrigation and agriculture development bank have together developed irrigation facilities in ha of land during the seventh plan period] => [सातौं योजनाको प्रगति सातौं योजनावधिमा सित्र्चाइ विभाग एवं कृषि विकास बैङ्कमार्फत कुल लाख हजार सय हेक्टर जमीनमा सित्र्चाइ सुविधाको विकास गरिएको छ।]\n",
      "[similarly an additional ha has been developed during the two years interim period of fy and] => [यसै गरी आव । र । को दुई वर्षको अन्तरिम अवधिमा थप कुल हजार सय हेक्टरमा सित्र्चाइ सुविधा उपलब्ध भएको छ।]\n",
      "[it is estimated that a tota of ha of land will have received irrigation facility by t he end of fy fu detail are given in table] => [आव । को अन्तसम्ममा कुल लाख हजार सय हेक्टरमा सित्र्चाइ सुविधा प्राप्त हुन सक्ने अनुमान छ। विस्तृत विवरण तल तालिका मा दिइएको छ।]\n",
      "[existing problems] => [विद्यमान समस्याहरु]\n",
      "[construction work of big projects planned to provide irrigation facility to large areas not being completed in time and completed projects not operating in full capacity] => [ठूला आयोजनाबाट धेरै जमीनमा सित्र्चाइ सुविधा पुर्‍याउने परिकल्पनाअनुरुप समयमा निर्माणकार्य सम्पन्न नहुने गरेको र निर्माणकार्य सम्पन्न भइसकेका आयोजनाहरु पूर्ण क्षमतामा सञ्चालन हुन नसकेको]\n",
      "[high per hectare costs of projects constructed at the government leve] => [सरकारीस्तरमा निर्माण भएका आयोजनाहरुको प्रतिहेक्टर लागत बढी भएको]\n",
      "[annually increasing government liability in small and medium projects up to ha due to the delay in executing the policy of handing over such projects to the user committees] => [साना र मझ्यौला हे सम्मका आयोजनालाई उपभोक्ता समितिलाई हस्तान्तरण गर्ने नीतिको प्रतिपादनमा ढिलाइ भएकोले सरकारी दायित्व प्रत्येक वर्ष बढ्दै गएको]\n",
      "[failure to commence the construction or the need to defer construction of projects included in the seventh plan like babai sikta and others in want of funding source] => [लक्ष्यमा समावेश गरिएका बबई सिक्टा आदि आयोजनाहरु स्रोत जुट न नसकी समयमा शुरु गर्न नसकेको वा निर्माणकार्य स्थगित गर्नुपरेको]\n",
      "[inadequate participation of nongovernmental organisations and the private sectors in the implementation of irrigation projects] => [सित्र्चाइ आयोजना कार्यान्वयनमा गैर सरकारी र निजी क्षेत्रको संलग्नता पर्याप्त मात्रामा नभएको]\n",
      "[farmers inability to derive expected benefits from the project s due to project implementing government agencys lack of direct accountability towards the people] => [कार्यान्वयन गर्ने सरकारी निकायको जनताप्रति प्रत्यक्ष उत्तरदायित्व नभएकोले आयोजनाबाट कृषकहरुले अपेक्षित लाभ प्राप्त गर्न नसकेको]\n",
      "[unsustainability of the projects due to the lack of necessary attention towards the institutional aspects during the execution of the programme by the government agency] => [सरकारी निकायले कार्यक्रम कार्यान्वयन गर्दा संस्थागत पक्षप्रति आवश्यक ध्यान नपुर्‍याउंदा सित्र्चाइ आयोजनाहरुमा दिगोपन आउन नसकेको।]\n",
      "[considering the above problems necessary measures will be taken to complete the irrigation projects within the allocated time during the eighth plan period] => [माथिका समस्याहरूलाई ध्यान दिदै आठौं योजनाको अवधिमा सित्र्चाइ आयोजनाहरु निर्धारित समयमा सम्पन्न गर्न आवश्यक कदमहरु चालिनेछन्।]\n",
      "[adequate measures will be effected in the promotion and extension of appropriate technology including irrigation management improvement] => [उपयुक्त प्रविधिको प्रवर्द्धन र विस्तारका साथै सित्र्चाइ व्यवस्थापनमा सुधार कार्यहरुको पर्याप्त व्यवस्था हुनेछ।]\n",
      "[background of the eighth plan development and expansionu of irrigation facilities is essential for increasing agricultural production required to ensure economic growth and security in food supply] => [आठौं योजनाको पृष्ठभूमि कृषि उत्पादनमा बृद्धि ल्याई आर्थिक विकासमा अभिबृद्धि गर्नुका साथै खाद्यान्नको आपूर्तिमा सुरक्षा प्रदान गर्नका लागि सित्र्चाइ सुविधाहरुको विकास र विस्तार अत्यन्त आवश्यक छ।]\n",
      "[in spite of huge past investment made in this sector farming still depends to a large extent on rainfa] => [विगतमा यस क्षेत्रमा ठूलो लगानी गरिए तापनि हालसम्म अधिकांश खेती वर्षामा नै आधारित भएको देखिन्छ।]\n",
      "[furthermore even the completed projects have not been possible to be fully utilised] => [यसका साथै हालसम्म विकसित गरिएका सित्र्चाइ आयोजनाहरुको उपयोग पूर्ण क्षमतामा गर्न सकिएको छैन।]\n",
      "[every yearthere is a need to make huge investment on the repair maintenance and operation of large projects] => [ठूला आयोजनाहरुको मर्मत सम्भार र सञ्चालनको लागि हरेक वर्ष ठूलो रकम लगानी गर्नुपर्ने स्थिति रहेको छ।]\n"
     ]
    }
   ],
   "source": [
    "for i in range(20):\n",
    "    print(\"[{}] => [{}]\".format(dataset[i][0], dataset[i][1]))"
   ]
  },
  {
   "cell_type": "code",
   "execution_count": 16,
   "id": "e33603ea",
   "metadata": {},
   "outputs": [
    {
     "name": "stdout",
     "output_type": "stream",
     "text": [
      "Saved: english-nepali.pkl\n"
     ]
    }
   ],
   "source": [
    "save(array(dataset), 'english-nepali.pkl')"
   ]
  },
  {
   "cell_type": "markdown",
   "id": "2850756b",
   "metadata": {},
   "source": [
    "### Split dataset"
   ]
  },
  {
   "cell_type": "code",
   "execution_count": 18,
   "id": "840d38c8",
   "metadata": {},
   "outputs": [
    {
     "name": "stdout",
     "output_type": "stream",
     "text": [
      "Saved: english-nepali-both.pkl\n",
      "Saved: english-nepali-train.pkl\n",
      "Saved: english-nepali-test.pkl\n"
     ]
    }
   ],
   "source": [
    "from pickle import load\n",
    "from pickle import dump\n",
    "from numpy.random import rand\n",
    "from numpy.random import shuffle\n",
    "\n",
    "# load a clean dataset\n",
    "def load_clean_sentences(filename):\n",
    "    return load(open(filename, 'rb'))\n",
    "\n",
    "# save a list of clean sentences to file\n",
    "def save_clean_data(sentences, filename):\n",
    "    dump(sentences, open(filename, 'wb'))\n",
    "    print('Saved: %s' % filename)\n",
    "\n",
    "# load dataset\n",
    "raw_dataset = load_clean_sentences('english-nepali.pkl')\n",
    "\n",
    "# # reduce dataset size\n",
    "n_sentences = 3981\n",
    "dataset = raw_dataset[:n_sentences, :]\n",
    "# random shuffle\n",
    "shuffle(dataset)\n",
    "# split into train/test\n",
    "train, test = dataset[:3000], dataset[3000:]\n",
    "# save\n",
    "save_clean_data(dataset, 'english-nepali-both.pkl')\n",
    "save_clean_data(train, 'english-nepali-train.pkl')\n",
    "save_clean_data(test, 'english-nepali-test.pkl')"
   ]
  },
  {
   "cell_type": "code",
   "execution_count": null,
   "id": "e203ba25",
   "metadata": {},
   "outputs": [],
   "source": []
  }
 ],
 "metadata": {
  "kernelspec": {
   "display_name": "Python 3",
   "language": "python",
   "name": "python3"
  },
  "language_info": {
   "codemirror_mode": {
    "name": "ipython",
    "version": 3
   },
   "file_extension": ".py",
   "mimetype": "text/x-python",
   "name": "python",
   "nbconvert_exporter": "python",
   "pygments_lexer": "ipython3",
   "version": "3.8.8"
  }
 },
 "nbformat": 4,
 "nbformat_minor": 5
}
